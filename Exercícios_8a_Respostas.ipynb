{
 "cells": [
  {
   "cell_type": "markdown",
   "metadata": {},
   "source": [
    "# <center>Atividade 8</center>\n",
    "### <center>Aluno: José Henrique Azevedo de Brito</center>\n",
    "#### <center>Respotas</center>"
   ]
  },
  {
   "cell_type": "code",
   "execution_count": 209,
   "metadata": {},
   "outputs": [],
   "source": [
    "import numpy as np\n",
    "import scipy.linalg as sla"
   ]
  },
  {
   "cell_type": "markdown",
   "metadata": {},
   "source": [
    "Exercício 1.1"
   ]
  },
  {
   "cell_type": "markdown",
   "metadata": {},
   "source": [
    "a."
   ]
  },
  {
   "cell_type": "code",
   "execution_count": 210,
   "metadata": {},
   "outputs": [
    {
     "name": "stdout",
     "output_type": "stream",
     "text": [
      "2\n",
      "2\n",
      "3\n"
     ]
    }
   ],
   "source": [
    "A = np.array([[1, 2, 3], [4, 5, 6], [7, 8, 9]])\n",
    "b = np.ones(3)\n",
    "print(np.linalg.matrix_rank(A))\n",
    "print(np.linalg.matrix_rank(np.c_[A, b]))\n",
    "print(A.shape[1])"
   ]
  },
  {
   "cell_type": "markdown",
   "metadata": {},
   "source": [
    "Como o posto da matriz de coeficientes deu igual ao posto da matriz extendida, mas os dois são menores que a quantidade de incógitas da matriz, logo, o sistema é um possível indeterminado\n"
   ]
  },
  {
   "cell_type": "markdown",
   "metadata": {},
   "source": [
    "b.\n"
   ]
  },
  {
   "cell_type": "code",
   "execution_count": 211,
   "metadata": {},
   "outputs": [
    {
     "name": "stdout",
     "output_type": "stream",
     "text": [
      "1\n",
      "2\n",
      "2\n"
     ]
    }
   ],
   "source": [
    "A = np.array([[2, 3], [-4, -6]])\n",
    "b = np.array([10, -10])\n",
    "print(np.linalg.matrix_rank(A))\n",
    "print(np.linalg.matrix_rank(np.c_[A, b]))\n",
    "print(A.shape[1])"
   ]
  },
  {
   "cell_type": "markdown",
   "metadata": {},
   "source": [
    "Como o posto da matriz é menor do que o posto da matriz extendida, isso é um sistema impossível"
   ]
  },
  {
   "cell_type": "markdown",
   "metadata": {},
   "source": [
    "Exercício 1.2"
   ]
  },
  {
   "cell_type": "code",
   "execution_count": 212,
   "metadata": {},
   "outputs": [],
   "source": [
    "def cal_linear_tri_sup(A, b) :\n",
    "    n = len(b)\n",
    "    x = np.empty(n)\n",
    "    x[-1] = b[-1] / A[-1, -1]\n",
    "    for i in range(n - 2, -1, -1) :\n",
    "        x[i] = (b[i] - np.sum(A[i, i + 1 :] * x[i + 1 :])) / A[i, i]\n",
    "    return x"
   ]
  },
  {
   "cell_type": "code",
   "execution_count": 213,
   "metadata": {},
   "outputs": [
    {
     "name": "stdout",
     "output_type": "stream",
     "text": [
      "[ 1. -1.  2.  1.]\n"
     ]
    }
   ],
   "source": [
    "A = np.array([[3,4,-5,1],[0,1,1,-2],[0,0,4,-5],[0,0,0,2]])\n",
    "b = np.array([-10,-1,3,2])\n",
    "print(cal_linear_tri_sup(A, b))"
   ]
  },
  {
   "cell_type": "code",
   "execution_count": 214,
   "metadata": {},
   "outputs": [],
   "source": [
    "def printSum(A, x, m) :\n",
    "    for i in range(len(A)) :\n",
    "        if i != len(A) - 1 :\n",
    "            print(\"A[%d, %d]=%d * x%d=%d +\" %(m , m + i + 1, A[i], m + i + 2, x[i]), end = \" \")\n",
    "        else :\n",
    "            print(\"A[%d, %d]=%d * x%d=%d\" %(m, m + i + 1, A[i], m + i + 2, x[i]))\n",
    "\n",
    "def mod_cal_linear_tri_sup(A, b) :\n",
    "    n = len(b)\n",
    "    x = np.empty(n)\n",
    "    x[-1] = b[-1] / A[-1, -1]\n",
    "    for i in range(n - 2, -1, -1) :\n",
    "        x[i] = (b[i] - np.sum(A[i, i + 1 :] * x[i + 1 :])) / A[i, i]\n",
    "        printSum(A[i, i + 1 :], x[i + 1 :], i)"
   ]
  },
  {
   "cell_type": "code",
   "execution_count": 215,
   "metadata": {},
   "outputs": [
    {
     "name": "stdout",
     "output_type": "stream",
     "text": [
      "A[2, 3]=-5 * x4=1\n",
      "A[1, 2]=1 * x3=2 + A[1, 3]=-2 * x4=1\n",
      "A[0, 1]=4 * x2=-1 + A[0, 2]=-5 * x3=2 + A[0, 3]=1 * x4=1\n",
      "None\n"
     ]
    }
   ],
   "source": [
    "print(mod_cal_linear_tri_sup(A, b))"
   ]
  },
  {
   "cell_type": "markdown",
   "metadata": {},
   "source": [
    "Exercício 1.3"
   ]
  },
  {
   "cell_type": "code",
   "execution_count": 216,
   "metadata": {},
   "outputs": [],
   "source": [
    "def cal_linear_tri_inf(A,b):\n",
    "    n = len(b)\n",
    "    x = np.empty(n)\n",
    "    x[0] = b[0]/A[0, 0]\n",
    "    for i in range(1,n):\n",
    "        x[i] = (b[i] - np.sum(A[i,:i]*x[:i]))/A[i,i]   \n",
    "    return x"
   ]
  },
  {
   "cell_type": "code",
   "execution_count": 217,
   "metadata": {},
   "outputs": [
    {
     "data": {
      "text/plain": [
       "array([ 1.33333333, -0.66666667,  2.66666667, -1.33333333])"
      ]
     },
     "execution_count": 217,
     "metadata": {},
     "output_type": "execute_result"
    }
   ],
   "source": [
    "A = np.array([[3,0,0,0],[2,1,0,0],[1,0,1,0],[1,1,1,1]])\n",
    "b = np.array([4,2,4,2])\n",
    "cal_linear_tri_inf(A, b)"
   ]
  },
  {
   "cell_type": "code",
   "execution_count": 218,
   "metadata": {},
   "outputs": [],
   "source": [
    "def printSum(A, x, m) :\n",
    "    for i in range(len(A)) :\n",
    "        if i != len(A) - 1 :\n",
    "            print(\"A[%d, %d]=%d * x%d=%.3f +\" %(m, i, A[i], i + 1, x[i]), end = \" \")\n",
    "        else :\n",
    "            print(\"A[%d, %d]=%d * x%d=%.3f\" %(m, i, A[i], i + 1, x[i]))\n",
    "\n",
    "def mod_cal_linear_tri_inf(A,b):\n",
    "    n = len(b)\n",
    "    x = np.empty(n)\n",
    "    x[0] = b[0]/A[0, 0]\n",
    "    for i in range(1, n):\n",
    "        x[i] = (b[i] - np.sum(A[i, : i] * x[ : i])) / A[i, i]   \n",
    "        printSum(A[i, : i], x[ : i], i)"
   ]
  },
  {
   "cell_type": "code",
   "execution_count": 219,
   "metadata": {},
   "outputs": [
    {
     "name": "stdout",
     "output_type": "stream",
     "text": [
      "A[1, 0]=2 * x1=1.333\n",
      "A[2, 0]=1 * x1=1.333 + A[2, 1]=0 * x2=-0.667\n",
      "A[3, 0]=1 * x1=1.333 + A[3, 1]=1 * x2=-0.667 + A[3, 2]=1 * x3=2.667\n"
     ]
    }
   ],
   "source": [
    "mod_cal_linear_tri_inf(A, b)"
   ]
  },
  {
   "cell_type": "markdown",
   "metadata": {},
   "source": [
    "Exercício 1.4"
   ]
  },
  {
   "cell_type": "code",
   "execution_count": 220,
   "metadata": {},
   "outputs": [],
   "source": [
    "def isDiagonal(A) :\n",
    "    n = len(A)\n",
    "    for i in range(n) :\n",
    "        for j in range(n) :\n",
    "            if i != j and A[i, j] != 0:\n",
    "                return False\n",
    "    return True\n",
    "\n",
    "def isSup(A) :\n",
    "    n = len(A)\n",
    "    for i in range(n) :\n",
    "        for j in range(i) :\n",
    "            if A[i, j] != 0 :\n",
    "                return False\n",
    "    return True\n",
    "\n",
    "def isInf(A) :\n",
    "    n = len(A)\n",
    "    for i in range(n) :\n",
    "        for j in range(i + 1, n) :\n",
    "            if A[i, j] != 0 :\n",
    "                return False\n",
    "    return True\n",
    "\n",
    "def calc_linear(A, b):\n",
    "    if isDiagonal(A) :\n",
    "        print(\"É diagonal!\")\n",
    "        print(b / A.diagonal())\n",
    "    elif isSup(A) :\n",
    "        print(\"É superior!\")\n",
    "        print(cal_linear_tri_sup(A, b))\n",
    "    elif isInf(A) :\n",
    "        print(\"É inferior\")\n",
    "        print(cal_linear_tri_inf(A, b))"
   ]
  },
  {
   "cell_type": "code",
   "execution_count": 221,
   "metadata": {},
   "outputs": [
    {
     "name": "stdout",
     "output_type": "stream",
     "text": [
      "É superior!\n",
      "[ 1. -1.  2.  1.]\n"
     ]
    }
   ],
   "source": [
    "A = np.array([[3,4,-5,1],[0,1,1,-2],[0,0,4,-5],[0,0,0,2]])\n",
    "b = np.array([-10,-1,3,2])\n",
    "calc_linear(A, b)"
   ]
  },
  {
   "cell_type": "code",
   "execution_count": 222,
   "metadata": {},
   "outputs": [
    {
     "name": "stdout",
     "output_type": "stream",
     "text": [
      "É inferior\n",
      "[ 1.33333333 -0.66666667  2.66666667 -1.33333333]\n"
     ]
    }
   ],
   "source": [
    "A = np.array([[3,0,0,0],[2,1,0,0],[1,0,1,0],[1,1,1,1]])\n",
    "b = np.array([4,2,4,2])\n",
    "calc_linear(A, b)"
   ]
  },
  {
   "cell_type": "code",
   "execution_count": 223,
   "metadata": {},
   "outputs": [
    {
     "name": "stdout",
     "output_type": "stream",
     "text": [
      "É diagonal!\n",
      "[4.  0.5 1. ]\n"
     ]
    }
   ],
   "source": [
    "A = np.diag([1,4,2])\n",
    "b = np.array([4, 2, 2])\n",
    "calc_linear(A, b)"
   ]
  }
 ],
 "metadata": {
  "interpreter": {
   "hash": "059d675f25cd3e8f1d14750683d9c73efb83d017b2a96c0ba6f429b3417e8dbf"
  },
  "kernelspec": {
   "display_name": "Python 3",
   "language": "python",
   "name": "python3"
  },
  "language_info": {
   "codemirror_mode": {
    "name": "ipython",
    "version": 3
   },
   "file_extension": ".py",
   "mimetype": "text/x-python",
   "name": "python",
   "nbconvert_exporter": "python",
   "pygments_lexer": "ipython3",
   "version": "3.8.8"
  }
 },
 "nbformat": 4,
 "nbformat_minor": 2
}
