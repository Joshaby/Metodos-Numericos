{
 "cells": [
  {
   "cell_type": "markdown",
   "source": [
    "# <center>Atividade 10b</center>\n",
    "### <center>Aluno: José Henrique Azevedo de Brito</center>\n",
    "#### <center>Respotas</center>"
   ],
   "metadata": {}
  },
  {
   "cell_type": "code",
   "execution_count": 49,
   "source": [
    "import numpy as np\n",
    "import scipy.linalg as sla\n",
    "import copy as cp"
   ],
   "outputs": [],
   "metadata": {}
  },
  {
   "cell_type": "code",
   "execution_count": 50,
   "source": [
    "def pivotamento(P, U, posi) :\n",
    "    maxPosi = np.abs(U[posi :, posi]).argmax() + posi\n",
    "    U[[maxPosi, posi]] = U[[posi, maxPosi]]\n",
    "    P[[maxPosi, posi]] = P[[posi, maxPosi]]\n",
    "    return P, U\n",
    "\n",
    "def eliminacao(P, L, U) :\n",
    "    tam = len(U)\n",
    "    for j in range(tam - 1) :\n",
    "        P, U = pivotamento(P, U, j)\n",
    "        for i in range(j + 1, tam) :\n",
    "            L[i, j] = U[i, j] / U[j, j]\n",
    "            U[i] = U[i] - L[i, j] * U[j]\n",
    "    return P, L, U\n",
    "\n",
    "def calLinearTriSup(A, b) :\n",
    "    n = len(b)\n",
    "    x = np.empty(n)\n",
    "    x[-1] = b[-1] / A[-1, -1]\n",
    "    for i in range(n - 2, -1, -1) :\n",
    "        x[i] = (b[i] - np.sum(A[i, i + 1 :] * x[i + 1 :])) / A[i, i]\n",
    "    return x\n",
    "\n",
    "def calLinearTriInf(A, b):\n",
    "    n = len(b)\n",
    "    x = np.empty(n)\n",
    "    x[0] = b[0] / A[0, 0]\n",
    "    for i in range(1, n):\n",
    "        x[i] = (b[i] - np.sum(A[i,: i] * x[: i])) / A[i, i]   \n",
    "    return x\n",
    "\n",
    "def lu_solve(A, b) :\n",
    "    P, L, U = eliminacao(np.eye(len(A)), np.eye(len(A)), cp.deepcopy(A))\n",
    "    y = calLinearTriInf(L, P @ b)\n",
    "    x = calLinearTriSup(U, y)\n",
    "    return x\n"
   ],
   "outputs": [],
   "metadata": {}
  },
  {
   "cell_type": "markdown",
   "source": [
    "Testes"
   ],
   "metadata": {}
  },
  {
   "cell_type": "code",
   "execution_count": 51,
   "source": [
    "A = np.array([[1,1,1],[2,1,-1],[2,-1,1]])\n",
    "b = np.array([-2,1,3])\n",
    "P, L, U = eliminacao(np.eye(len(A)), np.eye(len(A)), cp.deepcopy(A))\n",
    "print(\"P, L, U e x usando funções feitas do 0\")\n",
    "print(\"P =\", P)\n",
    "print(\"L =\", L)\n",
    "print(\"U =\", U)\n",
    "print(\"P@L@U =\", P@L@U)\n",
    "print(\"x =\", lu_solve(A, b), \"\\n\")\n",
    "print(\"P, L, U e x usando funções do SciPy.linalg\")\n",
    "P, L, U = sla.lu(A)\n",
    "print(\"P =\", P)\n",
    "print(\"L =\", L)\n",
    "print(\"U =\", U)\n",
    "print(\"P@L@U =\", P@L@U)\n",
    "print(\"x =\", sla.lu_solve(sla.lu_factor(A), b))"
   ],
   "outputs": [
    {
     "output_type": "stream",
     "name": "stdout",
     "text": [
      "P, L, U e x usando funções feitas do 0\n",
      "P = [[0. 1. 0.]\n",
      " [0. 0. 1.]\n",
      " [1. 0. 0.]]\n",
      "L = [[ 1.   0.   0. ]\n",
      " [ 0.5  1.   0. ]\n",
      " [ 1.  -0.   1. ]]\n",
      "U = [[ 2  1 -1]\n",
      " [ 0 -2  2]\n",
      " [ 0  0  1]]\n",
      "P@L@U = [[ 1.  -1.5  1.5]\n",
      " [ 2.   1.   0. ]\n",
      " [ 2.   1.  -1. ]]\n",
      "x = [ 1.125 -4.25  -3.   ] \n",
      "\n",
      "P, L, U e x usando funções do SciPy.linalg\n",
      "P = [[0. 0. 1.]\n",
      " [1. 0. 0.]\n",
      " [0. 1. 0.]]\n",
      "L = [[ 1.    0.    0.  ]\n",
      " [ 1.    1.    0.  ]\n",
      " [ 0.5  -0.25  1.  ]]\n",
      "U = [[ 2.  1. -1.]\n",
      " [ 0. -2.  2.]\n",
      " [ 0.  0.  2.]]\n",
      "P@L@U = [[ 1.  1.  1.]\n",
      " [ 2.  1. -1.]\n",
      " [ 2. -1.  1.]]\n",
      "x = [ 1. -2. -1.]\n"
     ]
    }
   ],
   "metadata": {}
  },
  {
   "cell_type": "code",
   "execution_count": 52,
   "source": [
    "A = np.array([[1,1,0],[2,1,-1],[3,-1,-1]])\n",
    "b = np.array([-2,1,3])\n",
    "P, L, U = eliminacao(np.eye(len(A)), np.eye(len(A)), cp.deepcopy(A))\n",
    "print(\"P, L, U e x usando funções feitas do 0\")\n",
    "print(\"P =\", P)\n",
    "print(\"L =\", L)\n",
    "print(\"U =\", U)\n",
    "print(\"P@L@U =\", P@L@U)\n",
    "print(\"x =\", lu_solve(A, b), \"\\n\")\n",
    "print(\"P, L, U e x usando funções do SciPy.linalg\")\n",
    "P, L, U = sla.lu(A)\n",
    "print(\"P =\", P)\n",
    "print(\"L =\", L)\n",
    "print(\"U =\", U)\n",
    "print(\"P@L@U =\", P@L@U)\n",
    "print(\"x =\", sla.lu_solve(sla.lu_factor(A), b))"
   ],
   "outputs": [
    {
     "output_type": "stream",
     "name": "stdout",
     "text": [
      "P, L, U e x usando funções feitas do 0\n",
      "P = [[0. 0. 1.]\n",
      " [0. 1. 0.]\n",
      " [1. 0. 0.]]\n",
      "L = [[1.         0.         0.        ]\n",
      " [0.66666667 1.         0.        ]\n",
      " [0.33333333 1.         1.        ]]\n",
      "U = [[ 3 -1 -1]\n",
      " [ 0  1  0]\n",
      " [ 0  0  0]]\n",
      "P@L@U = [[ 1.          0.66666667 -0.33333333]\n",
      " [ 2.          0.33333333 -0.66666667]\n",
      " [ 3.         -1.         -1.        ]]\n",
      "x = [ nan  nan -inf] \n",
      "\n",
      "P, L, U e x usando funções do SciPy.linalg\n",
      "P = [[0. 0. 1.]\n",
      " [0. 1. 0.]\n",
      " [1. 0. 0.]]\n",
      "L = [[1.         0.         0.        ]\n",
      " [0.66666667 1.         0.        ]\n",
      " [0.33333333 0.8        1.        ]]\n",
      "U = [[ 3.         -1.         -1.        ]\n",
      " [ 0.          1.66666667 -0.33333333]\n",
      " [ 0.          0.          0.6       ]]\n",
      "P@L@U = [[ 1.00000000e+00  1.00000000e+00 -1.11022302e-16]\n",
      " [ 2.00000000e+00  1.00000000e+00 -1.00000000e+00]\n",
      " [ 3.00000000e+00 -1.00000000e+00 -1.00000000e+00]]\n",
      "x = [-0.66666667 -1.33333333 -3.66666667]\n"
     ]
    },
    {
     "output_type": "stream",
     "name": "stderr",
     "text": [
      "<ipython-input-50-e2637084ed6c>:19: RuntimeWarning: divide by zero encountered in double_scalars\n",
      "  x[-1] = b[-1] / A[-1, -1]\n",
      "<ipython-input-50-e2637084ed6c>:21: RuntimeWarning: invalid value encountered in multiply\n",
      "  x[i] = (b[i] - np.sum(A[i, i + 1 :] * x[i + 1 :])) / A[i, i]\n"
     ]
    }
   ],
   "metadata": {}
  },
  {
   "cell_type": "markdown",
   "source": [
    "A"
   ],
   "metadata": {}
  },
  {
   "cell_type": "code",
   "execution_count": 53,
   "source": [
    "A = np.array([[1, 1, 1], [4, 4, 2], [2, 1, -1]])\n",
    "b = np.array([1, 2, 0])\n",
    "P, L, U = eliminacao(np.eye(len(A)), np.eye(len(A)), cp.deepcopy(A))\n",
    "print(\"P, L, U e x usando funções feitas do 0\")\n",
    "print(\"P =\", P)\n",
    "print(\"L =\", L)\n",
    "print(\"U =\", U)\n",
    "print(\"P@L@U =\", P@L@U)\n",
    "print(\"x =\", lu_solve(A, b), \"\\n\")\n",
    "print(\"P, L, U e x usando funções do SciPy.linalg\")\n",
    "P, L, U = sla.lu(A)\n",
    "print(\"P =\", P)\n",
    "print(\"L =\", L)\n",
    "print(\"U =\", U)\n",
    "print(\"P@L@U =\", P@L@U)\n",
    "print(\"x =\", sla.lu_solve(sla.lu_factor(A), b))"
   ],
   "outputs": [
    {
     "output_type": "stream",
     "name": "stdout",
     "text": [
      "P, L, U e x usando funções feitas do 0\n",
      "P = [[0. 1. 0.]\n",
      " [0. 0. 1.]\n",
      " [1. 0. 0.]]\n",
      "L = [[ 1.    0.    0.  ]\n",
      " [ 0.25  1.    0.  ]\n",
      " [ 0.5  -0.    1.  ]]\n",
      "U = [[ 4  4  2]\n",
      " [ 0 -1 -2]\n",
      " [ 0  0  0]]\n",
      "P@L@U = [[ 1.   0.  -1.5]\n",
      " [ 2.   2.   1. ]\n",
      " [ 4.   4.   2. ]]\n",
      "x = [nan nan nan] \n",
      "\n",
      "P, L, U e x usando funções do SciPy.linalg\n",
      "P = [[0. 0. 1.]\n",
      " [1. 0. 0.]\n",
      " [0. 1. 0.]]\n",
      "L = [[ 1.    0.    0.  ]\n",
      " [ 0.5   1.    0.  ]\n",
      " [ 0.25 -0.    1.  ]]\n",
      "U = [[ 4.   4.   2. ]\n",
      " [ 0.  -1.  -2. ]\n",
      " [ 0.   0.   0.5]]\n",
      "P@L@U = [[ 1.  1.  1.]\n",
      " [ 4.  4.  2.]\n",
      " [ 2.  1. -1.]]\n",
      "x = [ 1. -1.  1.]\n"
     ]
    },
    {
     "output_type": "stream",
     "name": "stderr",
     "text": [
      "<ipython-input-50-e2637084ed6c>:19: RuntimeWarning: invalid value encountered in double_scalars\n",
      "  x[-1] = b[-1] / A[-1, -1]\n"
     ]
    }
   ],
   "metadata": {}
  },
  {
   "cell_type": "markdown",
   "source": [
    "B"
   ],
   "metadata": {}
  },
  {
   "cell_type": "code",
   "execution_count": 54,
   "source": [
    "A = np.array([[7, -7, 1], [-3, 3, 2], [7, 7, -72]])\n",
    "b = np.array([1, 2, 7])\n",
    "P, L, U = eliminacao(np.eye(len(A)), np.eye(len(A)), cp.deepcopy(A))\n",
    "print(\"P, L, U e x usando funções feitas do 0\")\n",
    "print(\"P =\", P)\n",
    "print(\"L =\", L)\n",
    "print(\"U =\", U)\n",
    "print(\"P@L@U =\", P@L@U)\n",
    "print(\"x =\", lu_solve(A, b), \"\\n\")\n",
    "print(\"P, L, U e x usando funções do SciPy.linalg\")\n",
    "P, L, U = sla.lu(A)\n",
    "print(\"P =\", P)\n",
    "print(\"L =\", L)\n",
    "print(\"U =\", U)\n",
    "print(\"P@L@U =\", P@L@U)\n",
    "print(\"x =\", sla.lu_solve(sla.lu_factor(A), b))"
   ],
   "outputs": [
    {
     "output_type": "stream",
     "name": "stdout",
     "text": [
      "P, L, U e x usando funções feitas do 0\n",
      "P = [[1. 0. 0.]\n",
      " [0. 0. 1.]\n",
      " [0. 1. 0.]]\n",
      "L = [[ 1.          0.          0.        ]\n",
      " [-0.42857143  1.          0.        ]\n",
      " [ 1.          0.          1.        ]]\n",
      "U = [[  7  -7   1]\n",
      " [  0  14 -73]\n",
      " [  0   0   2]]\n",
      "P@L@U = [[  7.          -7.           1.        ]\n",
      " [  7.          -7.           3.        ]\n",
      " [ -3.          17.         -73.42857143]]\n",
      "x = [3.20918367 3.1377551  0.5       ] \n",
      "\n",
      "P, L, U e x usando funções do SciPy.linalg\n",
      "P = [[1. 0. 0.]\n",
      " [0. 0. 1.]\n",
      " [0. 1. 0.]]\n",
      "L = [[ 1.00000000e+00  0.00000000e+00  0.00000000e+00]\n",
      " [ 1.00000000e+00  1.00000000e+00  0.00000000e+00]\n",
      " [-4.28571429e-01  1.18952467e-17  1.00000000e+00]]\n",
      "U = [[  7.          -7.           1.        ]\n",
      " [  0.          14.         -73.        ]\n",
      " [  0.           0.           2.42857143]]\n",
      "P@L@U = [[  7.  -7.   1.]\n",
      " [ -3.   3.   2.]\n",
      " [  7.   7. -72.]]\n",
      "x = [5.64285714 5.64285714 1.        ]\n"
     ]
    }
   ],
   "metadata": {}
  },
  {
   "cell_type": "markdown",
   "source": [
    "C"
   ],
   "metadata": {}
  },
  {
   "cell_type": "code",
   "execution_count": 55,
   "source": [
    "A = np.array([[1, 2, 3, 4], [2, 2, 3, 4], [3, 3, 3, 4], [4, 4, 4, 4]])\n",
    "b = np.array([20, 22, 22, 24])\n",
    "P, L, U = eliminacao(np.eye(len(A)), np.eye(len(A)), cp.deepcopy(A))\n",
    "print(\"P, L, U e x usando funções feitas do 0\")\n",
    "print(\"P =\", P)\n",
    "print(\"L =\", L)\n",
    "print(\"U =\", U)\n",
    "print(\"P@L@U =\", P@L@U)\n",
    "print(\"x =\", lu_solve(A, b), \"\\n\")\n",
    "print(\"P, L, U e x usando funções do SciPy.linalg\")\n",
    "P, L, U = sla.lu(A)\n",
    "print(\"P =\", P)\n",
    "print(\"L =\", L)\n",
    "print(\"U =\", U)\n",
    "print(\"P@L@U =\", P@L@U)\n",
    "print(\"x =\", sla.lu_solve(sla.lu_factor(A), b))"
   ],
   "outputs": [
    {
     "output_type": "stream",
     "name": "stdout",
     "text": [
      "P, L, U e x usando funções feitas do 0\n",
      "P = [[0. 0. 0. 1.]\n",
      " [1. 0. 0. 0.]\n",
      " [0. 1. 0. 0.]\n",
      " [0. 0. 1. 0.]]\n",
      "L = [[1.   0.   0.   0.  ]\n",
      " [0.5  1.   0.   0.  ]\n",
      " [0.75 0.   1.   0.  ]\n",
      " [0.25 0.   0.   1.  ]]\n",
      "U = [[4 4 4 4]\n",
      " [0 1 2 3]\n",
      " [0 0 1 2]\n",
      " [0 0 0 1]]\n",
      "P@L@U = [[1. 1. 1. 2.]\n",
      " [4. 4. 4. 4.]\n",
      " [2. 3. 4. 5.]\n",
      " [3. 3. 4. 5.]]\n",
      "x = [  2.  16. -28.  16.] \n",
      "\n",
      "P, L, U e x usando funções do SciPy.linalg\n",
      "P = [[0. 1. 0. 0.]\n",
      " [0. 0. 1. 0.]\n",
      " [0. 0. 0. 1.]\n",
      " [1. 0. 0. 0.]]\n",
      "L = [[1.   0.   0.   0.  ]\n",
      " [0.25 1.   0.   0.  ]\n",
      " [0.5  0.   1.   0.  ]\n",
      " [0.75 0.   0.   1.  ]]\n",
      "U = [[4. 4. 4. 4.]\n",
      " [0. 1. 2. 3.]\n",
      " [0. 0. 1. 2.]\n",
      " [0. 0. 0. 1.]]\n",
      "P@L@U = [[1. 2. 3. 4.]\n",
      " [2. 2. 3. 4.]\n",
      " [3. 3. 3. 4.]\n",
      " [4. 4. 4. 4.]]\n",
      "x = [ 2. -2.  2.  4.]\n"
     ]
    }
   ],
   "metadata": {}
  },
  {
   "cell_type": "markdown",
   "source": [
    "E o método implementado do zero não foi 100% éficaz e preciso comparado ao métodos métodos usados do scipy.linalg! Em alguns momento no pivotamento, a escolha do pivó parece ter uma esolha mais inteligente, um algoritmo melhor, isso no scipy.linalg, e possivelmente, foi por causa disso que ocorreu resultados estranhos usando as funções feitas do 0!"
   ],
   "metadata": {}
  }
 ],
 "metadata": {
  "orig_nbformat": 4,
  "language_info": {
   "name": "python",
   "version": "3.8.8",
   "mimetype": "text/x-python",
   "codemirror_mode": {
    "name": "ipython",
    "version": 3
   },
   "pygments_lexer": "ipython3",
   "nbconvert_exporter": "python",
   "file_extension": ".py"
  },
  "kernelspec": {
   "name": "python3",
   "display_name": "Python 3.8.8 64-bit ('base': conda)"
  },
  "interpreter": {
   "hash": "059d675f25cd3e8f1d14750683d9c73efb83d017b2a96c0ba6f429b3417e8dbf"
  }
 },
 "nbformat": 4,
 "nbformat_minor": 2
}