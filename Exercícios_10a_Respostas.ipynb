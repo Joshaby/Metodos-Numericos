{
 "cells": [
  {
   "cell_type": "markdown",
   "source": [
    "# <center>Atividade 10a</center>\n",
    "### <center>Aluno: José Henrique Azevedo de Brito</center>\n",
    "#### <center>Respotas</center>"
   ],
   "metadata": {}
  },
  {
   "cell_type": "code",
   "execution_count": 1,
   "source": [
    "import numpy as np\n",
    "import scipy.linalg as sla"
   ],
   "outputs": [],
   "metadata": {}
  },
  {
   "cell_type": "code",
   "execution_count": 2,
   "source": [
    "def eliminacao(A, b) :\n",
    "    Ab = np.c_[A, b]\n",
    "    tam = len(A)\n",
    "    for i in range(tam - 1) :\n",
    "        for j in range(i + 1, tam) :\n",
    "            Ab[j] = Ab[j] - (Ab[j, i] / Ab[i, i]) * Ab[i]\n",
    "    return Ab[:, : -1], Ab[:, -1]"
   ],
   "outputs": [],
   "metadata": {}
  },
  {
   "cell_type": "code",
   "execution_count": 3,
   "source": [
    "def pivotamento(Ab , posi) :\n",
    "    maxPosi = np.abs(Ab[posi :, posi]).argmax() + posi\n",
    "    Ab[[maxPosi, posi]] = Ab[[posi, maxPosi]]\n",
    "    return Ab\n",
    "\n",
    "def eliminacao1(A, b) :\n",
    "    Ab = np.c_[A, b]\n",
    "    tam = len(A)\n",
    "    for i in range(tam - 1) :\n",
    "        Ab = pivotamento(Ab, i)\n",
    "        for j in range(i + 1, tam) :\n",
    "            Ab[j] = Ab[j] - (Ab[j, i] / Ab[i, i]) * Ab[i]\n",
    "    return Ab[:, : -1], Ab[:, -1]"
   ],
   "outputs": [],
   "metadata": {}
  },
  {
   "cell_type": "code",
   "execution_count": 4,
   "source": [
    "def calLinearTriSup(A, b) :\n",
    "    n = len(b)\n",
    "    x = np.empty(n)\n",
    "    x[-1] = b[-1] / A[-1, -1]\n",
    "    for i in range(n - 2, -1, -1) :\n",
    "        x[i] = (b[i] - np.sum(A[i, i + 1 :] * x[i + 1 :])) / A[i, i]\n",
    "    return x"
   ],
   "outputs": [],
   "metadata": {}
  },
  {
   "cell_type": "markdown",
   "source": [
    "Teste"
   ],
   "metadata": {}
  },
  {
   "cell_type": "code",
   "execution_count": 5,
   "source": [
    "A = np.array([[2, 3, -1],[4, 4, -3],[2, -3, 1]])\n",
    "b = np.array([5, 3, -1])\n",
    "print(\"Usando funções feitas do 0\")\n",
    "print(eliminacao1(A, b))\n",
    "newA, newB = eliminacao1(A, b)\n",
    "print(calLinearTriSup(newA, newB))\n",
    "print(\"Usando NumPy\")\n",
    "print(sla.solve(A, b))"
   ],
   "outputs": [
    {
     "output_type": "stream",
     "name": "stdout",
     "text": [
      "Usando funções feitas do 0\n",
      "(array([[ 4,  4, -3],\n",
      "       [ 0, -5,  2],\n",
      "       [ 0,  0,  0]]), array([ 3, -2,  2]))\n",
      "[nan inf inf]\n",
      "Usando NumPy\n",
      "[1. 2. 3.]\n"
     ]
    },
    {
     "output_type": "stream",
     "name": "stderr",
     "text": [
      "<ipython-input-4-7372e6f024a3>:4: RuntimeWarning: divide by zero encountered in long_scalars\n",
      "  x[-1] = b[-1] / A[-1, -1]\n",
      "/home/jose/.anaconda3/lib/python3.8/site-packages/numpy/core/fromnumeric.py:87: RuntimeWarning: invalid value encountered in reduce\n",
      "  return ufunc.reduce(obj, axis, dtype, out, **passkwargs)\n"
     ]
    }
   ],
   "metadata": {}
  },
  {
   "cell_type": "markdown",
   "source": [
    "A"
   ],
   "metadata": {}
  },
  {
   "cell_type": "code",
   "execution_count": 6,
   "source": [
    "A = np.array([[1, 1, 1], [4, 4, 2], [2, 1, -1]])\n",
    "b = np.array([1, 2, 0])\n",
    "print(\"Usando funções feitas do 0\")\n",
    "print(eliminacao1(A, b))\n",
    "newA, newB = eliminacao1(A, b)\n",
    "print(calLinearTriSup(newA, newB))\n",
    "print(\"Usando NumPy\")\n",
    "print(sla.solve(A, b))"
   ],
   "outputs": [
    {
     "output_type": "stream",
     "name": "stdout",
     "text": [
      "Usando funções feitas do 0\n",
      "(array([[ 4,  4,  2],\n",
      "       [ 0, -1, -2],\n",
      "       [ 0,  0,  0]]), array([ 2, -1,  0]))\n",
      "[nan nan nan]\n",
      "Usando NumPy\n",
      "[ 1. -1.  1.]\n"
     ]
    },
    {
     "output_type": "stream",
     "name": "stderr",
     "text": [
      "<ipython-input-4-7372e6f024a3>:4: RuntimeWarning: invalid value encountered in long_scalars\n",
      "  x[-1] = b[-1] / A[-1, -1]\n"
     ]
    }
   ],
   "metadata": {}
  },
  {
   "cell_type": "markdown",
   "source": [
    "Veja só, segundo o warning do método solve do Scipy, vemos que o calculo do x[-1] que é p x3 ocorre um erro pois b[-1] é zero"
   ],
   "metadata": {}
  },
  {
   "cell_type": "markdown",
   "source": [
    "B"
   ],
   "metadata": {}
  },
  {
   "cell_type": "code",
   "execution_count": 7,
   "source": [
    "A = np.array([[7, -7, 1], [-3, 3, 2], [7, 7, -72]])\n",
    "b = np.array([1, 2, 7])\n",
    "print(\"Usando funções feitas do 0\")\n",
    "print(eliminacao1(A, b))\n",
    "newA, newB = eliminacao1(A, b)\n",
    "print(calLinearTriSup(newA, newB))\n",
    "print(\"Usando NumPy\")\n",
    "print(sla.solve(A, b))"
   ],
   "outputs": [
    {
     "output_type": "stream",
     "name": "stdout",
     "text": [
      "Usando funções feitas do 0\n",
      "(array([[  7,  -7,   1],\n",
      "       [  0,  14, -73],\n",
      "       [  0,   0,   2]]), array([1, 6, 2]))\n",
      "[5.64285714 5.64285714 1.        ]\n",
      "Usando NumPy\n",
      "[5.64285714 5.64285714 1.        ]\n"
     ]
    }
   ],
   "metadata": {}
  },
  {
   "cell_type": "markdown",
   "source": [
    "C"
   ],
   "metadata": {}
  },
  {
   "cell_type": "code",
   "execution_count": 9,
   "source": [
    "A = np.array([[1, 2, 3, 4], [2, 2, 3, 4], [3, 3, 3, 4], [4, 4, 4, 4]])\n",
    "b = np.array([20, 22, 22, 24])\n",
    "print(\"Usando funções feitas do 0\")\n",
    "print(eliminacao1(A, b))\n",
    "newA, newB = eliminacao1(A, b)\n",
    "print(calLinearTriSup(newA, newB))\n",
    "print(\"Usando NumPy\")\n",
    "print(sla.solve(A, b))"
   ],
   "outputs": [
    {
     "output_type": "stream",
     "name": "stdout",
     "text": [
      "Usando funções feitas do 0\n",
      "(array([[4, 4, 4, 4],\n",
      "       [0, 1, 2, 3],\n",
      "       [0, 0, 1, 2],\n",
      "       [0, 0, 0, 1]]), array([24, 14, 10,  4]))\n",
      "[ 2. -2.  2.  4.]\n",
      "Usando NumPy\n",
      "[ 2. -2.  2.  4.]\n"
     ]
    }
   ],
   "metadata": {}
  }
 ],
 "metadata": {
  "orig_nbformat": 4,
  "language_info": {
   "name": "python",
   "version": "3.8.8",
   "mimetype": "text/x-python",
   "codemirror_mode": {
    "name": "ipython",
    "version": 3
   },
   "pygments_lexer": "ipython3",
   "nbconvert_exporter": "python",
   "file_extension": ".py"
  },
  "kernelspec": {
   "name": "python3",
   "display_name": "Python 3.8.8 64-bit ('base': conda)"
  },
  "interpreter": {
   "hash": "059d675f25cd3e8f1d14750683d9c73efb83d017b2a96c0ba6f429b3417e8dbf"
  }
 },
 "nbformat": 4,
 "nbformat_minor": 2
}